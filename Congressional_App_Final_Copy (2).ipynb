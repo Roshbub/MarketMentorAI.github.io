{
  "nbformat": 4,
  "nbformat_minor": 0,
  "metadata": {
    "colab": {
      "provenance": []
    },
    "kernelspec": {
      "name": "python3",
      "display_name": "Python 3"
    },
    "language_info": {
      "name": "python"
    }
  },
  "cells": [
    {
      "cell_type": "code",
      "execution_count": 3,
      "metadata": {
        "colab": {
          "base_uri": "https://localhost:8080/"
        },
        "id": "-iBpRtnD391X",
        "outputId": "f4491bac-4faa-4181-a9ea-a9ba89a46158"
      },
      "outputs": [
        {
          "output_type": "stream",
          "name": "stdout",
          "text": [
            "Collecting PyPortfolioOpt\n",
            "  Downloading pyportfolioopt-1.5.5-py3-none-any.whl (61 kB)\n",
            "\u001b[?25l     \u001b[90m━━━━━━━━━━━━━━━━━━━━━━━━━━━━━━━━━━━━━━━━\u001b[0m \u001b[32m0.0/61.9 kB\u001b[0m \u001b[31m?\u001b[0m eta \u001b[36m-:--:--\u001b[0m\r\u001b[2K     \u001b[90m━━━━━━━━━━━━━━━━━━━━━━━━━━━━━━━━━━━━━━━━\u001b[0m \u001b[32m61.9/61.9 kB\u001b[0m \u001b[31m1.7 MB/s\u001b[0m eta \u001b[36m0:00:00\u001b[0m\n",
            "\u001b[?25hRequirement already satisfied: cvxpy<2.0.0,>=1.1.19 in /usr/local/lib/python3.10/dist-packages (from PyPortfolioOpt) (1.3.4)\n",
            "Requirement already satisfied: numpy<2.0.0,>=1.22.4 in /usr/local/lib/python3.10/dist-packages (from PyPortfolioOpt) (1.25.2)\n",
            "Requirement already satisfied: pandas>=0.19 in /usr/local/lib/python3.10/dist-packages (from PyPortfolioOpt) (2.0.3)\n",
            "Requirement already satisfied: scipy<2.0,>=1.3 in /usr/local/lib/python3.10/dist-packages (from PyPortfolioOpt) (1.11.4)\n",
            "Requirement already satisfied: osqp>=0.4.1 in /usr/local/lib/python3.10/dist-packages (from cvxpy<2.0.0,>=1.1.19->PyPortfolioOpt) (0.6.2.post8)\n",
            "Requirement already satisfied: ecos>=2 in /usr/local/lib/python3.10/dist-packages (from cvxpy<2.0.0,>=1.1.19->PyPortfolioOpt) (2.0.13)\n",
            "Requirement already satisfied: scs>=1.1.6 in /usr/local/lib/python3.10/dist-packages (from cvxpy<2.0.0,>=1.1.19->PyPortfolioOpt) (3.2.4.post2)\n",
            "Requirement already satisfied: setuptools>65.5.1 in /usr/local/lib/python3.10/dist-packages (from cvxpy<2.0.0,>=1.1.19->PyPortfolioOpt) (67.7.2)\n",
            "Requirement already satisfied: python-dateutil>=2.8.2 in /usr/local/lib/python3.10/dist-packages (from pandas>=0.19->PyPortfolioOpt) (2.8.2)\n",
            "Requirement already satisfied: pytz>=2020.1 in /usr/local/lib/python3.10/dist-packages (from pandas>=0.19->PyPortfolioOpt) (2023.4)\n",
            "Requirement already satisfied: tzdata>=2022.1 in /usr/local/lib/python3.10/dist-packages (from pandas>=0.19->PyPortfolioOpt) (2024.1)\n",
            "Requirement already satisfied: qdldl in /usr/local/lib/python3.10/dist-packages (from osqp>=0.4.1->cvxpy<2.0.0,>=1.1.19->PyPortfolioOpt) (0.1.7.post2)\n",
            "Requirement already satisfied: six>=1.5 in /usr/local/lib/python3.10/dist-packages (from python-dateutil>=2.8.2->pandas>=0.19->PyPortfolioOpt) (1.16.0)\n",
            "Installing collected packages: PyPortfolioOpt\n",
            "Successfully installed PyPortfolioOpt-1.5.5\n",
            "Requirement already satisfied: yfinance in /usr/local/lib/python3.10/dist-packages (0.2.40)\n",
            "Requirement already satisfied: pandas>=1.3.0 in /usr/local/lib/python3.10/dist-packages (from yfinance) (2.0.3)\n",
            "Requirement already satisfied: numpy>=1.16.5 in /usr/local/lib/python3.10/dist-packages (from yfinance) (1.25.2)\n",
            "Requirement already satisfied: requests>=2.31 in /usr/local/lib/python3.10/dist-packages (from yfinance) (2.31.0)\n",
            "Requirement already satisfied: multitasking>=0.0.7 in /usr/local/lib/python3.10/dist-packages (from yfinance) (0.0.11)\n",
            "Requirement already satisfied: lxml>=4.9.1 in /usr/local/lib/python3.10/dist-packages (from yfinance) (4.9.4)\n",
            "Requirement already satisfied: platformdirs>=2.0.0 in /usr/local/lib/python3.10/dist-packages (from yfinance) (4.2.2)\n",
            "Requirement already satisfied: pytz>=2022.5 in /usr/local/lib/python3.10/dist-packages (from yfinance) (2023.4)\n",
            "Requirement already satisfied: frozendict>=2.3.4 in /usr/local/lib/python3.10/dist-packages (from yfinance) (2.4.4)\n",
            "Requirement already satisfied: peewee>=3.16.2 in /usr/local/lib/python3.10/dist-packages (from yfinance) (3.17.5)\n",
            "Requirement already satisfied: beautifulsoup4>=4.11.1 in /usr/local/lib/python3.10/dist-packages (from yfinance) (4.12.3)\n",
            "Requirement already satisfied: html5lib>=1.1 in /usr/local/lib/python3.10/dist-packages (from yfinance) (1.1)\n",
            "Requirement already satisfied: soupsieve>1.2 in /usr/local/lib/python3.10/dist-packages (from beautifulsoup4>=4.11.1->yfinance) (2.5)\n",
            "Requirement already satisfied: six>=1.9 in /usr/local/lib/python3.10/dist-packages (from html5lib>=1.1->yfinance) (1.16.0)\n",
            "Requirement already satisfied: webencodings in /usr/local/lib/python3.10/dist-packages (from html5lib>=1.1->yfinance) (0.5.1)\n",
            "Requirement already satisfied: python-dateutil>=2.8.2 in /usr/local/lib/python3.10/dist-packages (from pandas>=1.3.0->yfinance) (2.8.2)\n",
            "Requirement already satisfied: tzdata>=2022.1 in /usr/local/lib/python3.10/dist-packages (from pandas>=1.3.0->yfinance) (2024.1)\n",
            "Requirement already satisfied: charset-normalizer<4,>=2 in /usr/local/lib/python3.10/dist-packages (from requests>=2.31->yfinance) (3.3.2)\n",
            "Requirement already satisfied: idna<4,>=2.5 in /usr/local/lib/python3.10/dist-packages (from requests>=2.31->yfinance) (3.7)\n",
            "Requirement already satisfied: urllib3<3,>=1.21.1 in /usr/local/lib/python3.10/dist-packages (from requests>=2.31->yfinance) (1.26.19)\n",
            "Requirement already satisfied: certifi>=2017.4.17 in /usr/local/lib/python3.10/dist-packages (from requests>=2.31->yfinance) (2024.6.2)\n",
            "Requirement already satisfied: yahoo_fin in /usr/local/lib/python3.10/dist-packages (0.8.9.1)\n",
            "Requirement already satisfied: requests-html in /usr/local/lib/python3.10/dist-packages (from yahoo_fin) (0.10.0)\n",
            "Requirement already satisfied: feedparser in /usr/local/lib/python3.10/dist-packages (from yahoo_fin) (6.0.11)\n",
            "Requirement already satisfied: requests in /usr/local/lib/python3.10/dist-packages (from yahoo_fin) (2.31.0)\n",
            "Requirement already satisfied: pandas in /usr/local/lib/python3.10/dist-packages (from yahoo_fin) (2.0.3)\n",
            "Requirement already satisfied: sgmllib3k in /usr/local/lib/python3.10/dist-packages (from feedparser->yahoo_fin) (1.0.0)\n",
            "Requirement already satisfied: python-dateutil>=2.8.2 in /usr/local/lib/python3.10/dist-packages (from pandas->yahoo_fin) (2.8.2)\n",
            "Requirement already satisfied: pytz>=2020.1 in /usr/local/lib/python3.10/dist-packages (from pandas->yahoo_fin) (2023.4)\n",
            "Requirement already satisfied: tzdata>=2022.1 in /usr/local/lib/python3.10/dist-packages (from pandas->yahoo_fin) (2024.1)\n",
            "Requirement already satisfied: numpy>=1.21.0 in /usr/local/lib/python3.10/dist-packages (from pandas->yahoo_fin) (1.25.2)\n",
            "Requirement already satisfied: charset-normalizer<4,>=2 in /usr/local/lib/python3.10/dist-packages (from requests->yahoo_fin) (3.3.2)\n",
            "Requirement already satisfied: idna<4,>=2.5 in /usr/local/lib/python3.10/dist-packages (from requests->yahoo_fin) (3.7)\n",
            "Requirement already satisfied: urllib3<3,>=1.21.1 in /usr/local/lib/python3.10/dist-packages (from requests->yahoo_fin) (1.26.19)\n",
            "Requirement already satisfied: certifi>=2017.4.17 in /usr/local/lib/python3.10/dist-packages (from requests->yahoo_fin) (2024.6.2)\n",
            "Requirement already satisfied: pyquery in /usr/local/lib/python3.10/dist-packages (from requests-html->yahoo_fin) (2.0.0)\n",
            "Requirement already satisfied: fake-useragent in /usr/local/lib/python3.10/dist-packages (from requests-html->yahoo_fin) (1.5.1)\n",
            "Requirement already satisfied: parse in /usr/local/lib/python3.10/dist-packages (from requests-html->yahoo_fin) (1.20.2)\n",
            "Requirement already satisfied: bs4 in /usr/local/lib/python3.10/dist-packages (from requests-html->yahoo_fin) (0.0.2)\n",
            "Requirement already satisfied: w3lib in /usr/local/lib/python3.10/dist-packages (from requests-html->yahoo_fin) (2.2.1)\n",
            "Requirement already satisfied: pyppeteer>=0.0.14 in /usr/local/lib/python3.10/dist-packages (from requests-html->yahoo_fin) (2.0.0)\n",
            "Requirement already satisfied: appdirs<2.0.0,>=1.4.3 in /usr/local/lib/python3.10/dist-packages (from pyppeteer>=0.0.14->requests-html->yahoo_fin) (1.4.4)\n",
            "Requirement already satisfied: importlib-metadata>=1.4 in /usr/local/lib/python3.10/dist-packages (from pyppeteer>=0.0.14->requests-html->yahoo_fin) (7.1.0)\n",
            "Requirement already satisfied: pyee<12.0.0,>=11.0.0 in /usr/local/lib/python3.10/dist-packages (from pyppeteer>=0.0.14->requests-html->yahoo_fin) (11.1.0)\n",
            "Requirement already satisfied: tqdm<5.0.0,>=4.42.1 in /usr/local/lib/python3.10/dist-packages (from pyppeteer>=0.0.14->requests-html->yahoo_fin) (4.66.4)\n",
            "Requirement already satisfied: websockets<11.0,>=10.0 in /usr/local/lib/python3.10/dist-packages (from pyppeteer>=0.0.14->requests-html->yahoo_fin) (10.4)\n",
            "Requirement already satisfied: six>=1.5 in /usr/local/lib/python3.10/dist-packages (from python-dateutil>=2.8.2->pandas->yahoo_fin) (1.16.0)\n",
            "Requirement already satisfied: beautifulsoup4 in /usr/local/lib/python3.10/dist-packages (from bs4->requests-html->yahoo_fin) (4.12.3)\n",
            "Requirement already satisfied: lxml>=2.1 in /usr/local/lib/python3.10/dist-packages (from pyquery->requests-html->yahoo_fin) (4.9.4)\n",
            "Requirement already satisfied: cssselect>=1.2.0 in /usr/local/lib/python3.10/dist-packages (from pyquery->requests-html->yahoo_fin) (1.2.0)\n",
            "Requirement already satisfied: zipp>=0.5 in /usr/local/lib/python3.10/dist-packages (from importlib-metadata>=1.4->pyppeteer>=0.0.14->requests-html->yahoo_fin) (3.19.2)\n",
            "Requirement already satisfied: typing-extensions in /usr/local/lib/python3.10/dist-packages (from pyee<12.0.0,>=11.0.0->pyppeteer>=0.0.14->requests-html->yahoo_fin) (4.12.2)\n",
            "Requirement already satisfied: soupsieve>1.2 in /usr/local/lib/python3.10/dist-packages (from beautifulsoup4->bs4->requests-html->yahoo_fin) (2.5)\n",
            "Requirement already satisfied: scikit-learn in /usr/local/lib/python3.10/dist-packages (1.2.2)\n",
            "Requirement already satisfied: numpy>=1.17.3 in /usr/local/lib/python3.10/dist-packages (from scikit-learn) (1.25.2)\n",
            "Requirement already satisfied: scipy>=1.3.2 in /usr/local/lib/python3.10/dist-packages (from scikit-learn) (1.11.4)\n",
            "Requirement already satisfied: joblib>=1.1.1 in /usr/local/lib/python3.10/dist-packages (from scikit-learn) (1.4.2)\n",
            "Requirement already satisfied: threadpoolctl>=2.0.0 in /usr/local/lib/python3.10/dist-packages (from scikit-learn) (3.5.0)\n",
            "Requirement already satisfied: matplotlib in /usr/local/lib/python3.10/dist-packages (3.7.1)\n",
            "Requirement already satisfied: contourpy>=1.0.1 in /usr/local/lib/python3.10/dist-packages (from matplotlib) (1.2.1)\n",
            "Requirement already satisfied: cycler>=0.10 in /usr/local/lib/python3.10/dist-packages (from matplotlib) (0.12.1)\n",
            "Requirement already satisfied: fonttools>=4.22.0 in /usr/local/lib/python3.10/dist-packages (from matplotlib) (4.53.0)\n",
            "Requirement already satisfied: kiwisolver>=1.0.1 in /usr/local/lib/python3.10/dist-packages (from matplotlib) (1.4.5)\n",
            "Requirement already satisfied: numpy>=1.20 in /usr/local/lib/python3.10/dist-packages (from matplotlib) (1.25.2)\n",
            "Requirement already satisfied: packaging>=20.0 in /usr/local/lib/python3.10/dist-packages (from matplotlib) (24.1)\n",
            "Requirement already satisfied: pillow>=6.2.0 in /usr/local/lib/python3.10/dist-packages (from matplotlib) (9.4.0)\n",
            "Requirement already satisfied: pyparsing>=2.3.1 in /usr/local/lib/python3.10/dist-packages (from matplotlib) (3.1.2)\n",
            "Requirement already satisfied: python-dateutil>=2.7 in /usr/local/lib/python3.10/dist-packages (from matplotlib) (2.8.2)\n",
            "Requirement already satisfied: six>=1.5 in /usr/local/lib/python3.10/dist-packages (from python-dateutil>=2.7->matplotlib) (1.16.0)\n",
            "Requirement already satisfied: textblob in /usr/local/lib/python3.10/dist-packages (0.17.1)\n",
            "Requirement already satisfied: nltk>=3.1 in /usr/local/lib/python3.10/dist-packages (from textblob) (3.8.1)\n",
            "Requirement already satisfied: click in /usr/local/lib/python3.10/dist-packages (from nltk>=3.1->textblob) (8.1.7)\n",
            "Requirement already satisfied: joblib in /usr/local/lib/python3.10/dist-packages (from nltk>=3.1->textblob) (1.4.2)\n",
            "Requirement already satisfied: regex>=2021.8.3 in /usr/local/lib/python3.10/dist-packages (from nltk>=3.1->textblob) (2024.5.15)\n",
            "Requirement already satisfied: tqdm in /usr/local/lib/python3.10/dist-packages (from nltk>=3.1->textblob) (4.66.4)\n",
            "Requirement already satisfied: seaborn in /usr/local/lib/python3.10/dist-packages (0.13.1)\n",
            "Requirement already satisfied: numpy!=1.24.0,>=1.20 in /usr/local/lib/python3.10/dist-packages (from seaborn) (1.25.2)\n",
            "Requirement already satisfied: pandas>=1.2 in /usr/local/lib/python3.10/dist-packages (from seaborn) (2.0.3)\n",
            "Requirement already satisfied: matplotlib!=3.6.1,>=3.4 in /usr/local/lib/python3.10/dist-packages (from seaborn) (3.7.1)\n",
            "Requirement already satisfied: contourpy>=1.0.1 in /usr/local/lib/python3.10/dist-packages (from matplotlib!=3.6.1,>=3.4->seaborn) (1.2.1)\n",
            "Requirement already satisfied: cycler>=0.10 in /usr/local/lib/python3.10/dist-packages (from matplotlib!=3.6.1,>=3.4->seaborn) (0.12.1)\n",
            "Requirement already satisfied: fonttools>=4.22.0 in /usr/local/lib/python3.10/dist-packages (from matplotlib!=3.6.1,>=3.4->seaborn) (4.53.0)\n",
            "Requirement already satisfied: kiwisolver>=1.0.1 in /usr/local/lib/python3.10/dist-packages (from matplotlib!=3.6.1,>=3.4->seaborn) (1.4.5)\n",
            "Requirement already satisfied: packaging>=20.0 in /usr/local/lib/python3.10/dist-packages (from matplotlib!=3.6.1,>=3.4->seaborn) (24.1)\n",
            "Requirement already satisfied: pillow>=6.2.0 in /usr/local/lib/python3.10/dist-packages (from matplotlib!=3.6.1,>=3.4->seaborn) (9.4.0)\n",
            "Requirement already satisfied: pyparsing>=2.3.1 in /usr/local/lib/python3.10/dist-packages (from matplotlib!=3.6.1,>=3.4->seaborn) (3.1.2)\n",
            "Requirement already satisfied: python-dateutil>=2.7 in /usr/local/lib/python3.10/dist-packages (from matplotlib!=3.6.1,>=3.4->seaborn) (2.8.2)\n",
            "Requirement already satisfied: pytz>=2020.1 in /usr/local/lib/python3.10/dist-packages (from pandas>=1.2->seaborn) (2023.4)\n",
            "Requirement already satisfied: tzdata>=2022.1 in /usr/local/lib/python3.10/dist-packages (from pandas>=1.2->seaborn) (2024.1)\n",
            "Requirement already satisfied: six>=1.5 in /usr/local/lib/python3.10/dist-packages (from python-dateutil>=2.7->matplotlib!=3.6.1,>=3.4->seaborn) (1.16.0)\n",
            "\u001b[31mERROR: Could not find a version that satisfies the requirement pypfopt (from versions: none)\u001b[0m\u001b[31m\n",
            "\u001b[0m\u001b[31mERROR: No matching distribution found for pypfopt\u001b[0m\u001b[31m\n",
            "\u001b[0mRequirement already satisfied: statsmodels in /usr/local/lib/python3.10/dist-packages (0.14.2)\n",
            "Requirement already satisfied: numpy>=1.22.3 in /usr/local/lib/python3.10/dist-packages (from statsmodels) (1.25.2)\n",
            "Requirement already satisfied: scipy!=1.9.2,>=1.8 in /usr/local/lib/python3.10/dist-packages (from statsmodels) (1.11.4)\n",
            "Requirement already satisfied: pandas!=2.1.0,>=1.4 in /usr/local/lib/python3.10/dist-packages (from statsmodels) (2.0.3)\n",
            "Requirement already satisfied: patsy>=0.5.6 in /usr/local/lib/python3.10/dist-packages (from statsmodels) (0.5.6)\n",
            "Requirement already satisfied: packaging>=21.3 in /usr/local/lib/python3.10/dist-packages (from statsmodels) (24.1)\n",
            "Requirement already satisfied: python-dateutil>=2.8.2 in /usr/local/lib/python3.10/dist-packages (from pandas!=2.1.0,>=1.4->statsmodels) (2.8.2)\n",
            "Requirement already satisfied: pytz>=2020.1 in /usr/local/lib/python3.10/dist-packages (from pandas!=2.1.0,>=1.4->statsmodels) (2023.4)\n",
            "Requirement already satisfied: tzdata>=2022.1 in /usr/local/lib/python3.10/dist-packages (from pandas!=2.1.0,>=1.4->statsmodels) (2024.1)\n",
            "Requirement already satisfied: six in /usr/local/lib/python3.10/dist-packages (from patsy>=0.5.6->statsmodels) (1.16.0)\n",
            "Requirement already satisfied: tqdm in /usr/local/lib/python3.10/dist-packages (4.66.4)\n"
          ]
        }
      ],
      "source": [
        "!pip install PyPortfolioOpt\n",
        "# Import packages\n",
        "!pip install yfinance\n",
        "!pip install yahoo_fin\n",
        "!pip install scikit-learn\n",
        "!pip install matplotlib\n",
        "!pip install textblob\n",
        "!pip install seaborn\n",
        "!pip install pypfopt\n",
        "!pip install statsmodels\n",
        "!pip install tqdm\n",
        "\n",
        "import yfinance as yf\n",
        "import pandas as pd\n",
        "from yahoo_fin import stock_info\n",
        "from yahoo_fin.stock_info import get_analysts_info\n",
        "from sklearn.ensemble import RandomForestRegressor\n",
        "from sklearn.model_selection import train_test_split\n",
        "from sklearn.preprocessing import LabelEncoder\n",
        "from sklearn.metrics import mean_squared_error\n",
        "from sklearn.model_selection import GridSearchCV\n",
        "import numpy as np\n",
        "import matplotlib.pyplot as plt\n",
        "from textblob import TextBlob\n",
        "import seaborn as sns\n",
        "from pypfopt.efficient_frontier import EfficientFrontier\n",
        "from pypfopt import risk_models, expected_returns\n",
        "from statsmodels.tsa.stattools import adfuller\n",
        "from tqdm import tqdm\n"
      ]
    },
    {
      "cell_type": "code",
      "source": [
        "# Implement a Monte Carlo simulation for the portfolio of recommended stocks\n",
        "def monte_carlo_simulation(recommended_stocks, num_simulations=1000, time_horizon=252):\n",
        "    simulated_portfolios = []\n",
        "    for symbol, _ in recommended_stocks:\n",
        "        historical_prices = yf.download(symbol, period='5y')['Adj Close']\n",
        "        returns = historical_prices.pct_change().dropna()\n",
        "        avg_return = returns.mean()\n",
        "        std_dev = returns.std()\n",
        "\n",
        "        for _ in range(num_simulations):\n",
        "            simulation = [historical_prices.iloc[-1]]\n",
        "            for _ in range(time_horizon):\n",
        "                next_price = simulation[-1] * (1 + np.random.normal(avg_return, std_dev))\n",
        "                simulation.append(next_price)\n",
        "            simulated_portfolios.append(simulation)\n",
        "\n",
        "    return simulated_portfolios"
      ],
      "metadata": {
        "id": "oNqnkLog6K8x"
      },
      "execution_count": 4,
      "outputs": []
    },
    {
      "cell_type": "code",
      "source": [
        "# Perform Monte Carlo simulation and plot results\n",
        "simulated_portfolios = monte_carlo_simulation(recommended_stocks)\n",
        "plt.figure(figsize=(14, 7))\n",
        "for portfolio in simulated_portfolios:\n",
        "    plt.plot(portfolio, color='blue', alpha=0.1)\n",
        "plt.title('Monte Carlo Simulation of Portfolio')\n",
        "plt.xlabel('Time (days)')\n",
        "plt.ylabel('Portfolio Value')\n",
        "plt.show()"
      ],
      "metadata": {
        "colab": {
          "base_uri": "https://localhost:8080/",
          "height": 216
        },
        "id": "plos1jMc6LDV",
        "outputId": "92be5c91-16e1-43f7-f790-f9f299b41a35"
      },
      "execution_count": 5,
      "outputs": [
        {
          "output_type": "error",
          "ename": "NameError",
          "evalue": "name 'recommended_stocks' is not defined",
          "traceback": [
            "\u001b[0;31m---------------------------------------------------------------------------\u001b[0m",
            "\u001b[0;31mNameError\u001b[0m                                 Traceback (most recent call last)",
            "\u001b[0;32m<ipython-input-5-6d185c969797>\u001b[0m in \u001b[0;36m<cell line: 2>\u001b[0;34m()\u001b[0m\n\u001b[1;32m      1\u001b[0m \u001b[0;31m# Perform Monte Carlo simulation and plot results\u001b[0m\u001b[0;34m\u001b[0m\u001b[0;34m\u001b[0m\u001b[0m\n\u001b[0;32m----> 2\u001b[0;31m \u001b[0msimulated_portfolios\u001b[0m \u001b[0;34m=\u001b[0m \u001b[0mmonte_carlo_simulation\u001b[0m\u001b[0;34m(\u001b[0m\u001b[0mrecommended_stocks\u001b[0m\u001b[0;34m)\u001b[0m\u001b[0;34m\u001b[0m\u001b[0;34m\u001b[0m\u001b[0m\n\u001b[0m\u001b[1;32m      3\u001b[0m \u001b[0mplt\u001b[0m\u001b[0;34m.\u001b[0m\u001b[0mfigure\u001b[0m\u001b[0;34m(\u001b[0m\u001b[0mfigsize\u001b[0m\u001b[0;34m=\u001b[0m\u001b[0;34m(\u001b[0m\u001b[0;36m14\u001b[0m\u001b[0;34m,\u001b[0m \u001b[0;36m7\u001b[0m\u001b[0;34m)\u001b[0m\u001b[0;34m)\u001b[0m\u001b[0;34m\u001b[0m\u001b[0;34m\u001b[0m\u001b[0m\n\u001b[1;32m      4\u001b[0m \u001b[0;32mfor\u001b[0m \u001b[0mportfolio\u001b[0m \u001b[0;32min\u001b[0m \u001b[0msimulated_portfolios\u001b[0m\u001b[0;34m:\u001b[0m\u001b[0;34m\u001b[0m\u001b[0;34m\u001b[0m\u001b[0m\n\u001b[1;32m      5\u001b[0m     \u001b[0mplt\u001b[0m\u001b[0;34m.\u001b[0m\u001b[0mplot\u001b[0m\u001b[0;34m(\u001b[0m\u001b[0mportfolio\u001b[0m\u001b[0;34m,\u001b[0m \u001b[0mcolor\u001b[0m\u001b[0;34m=\u001b[0m\u001b[0;34m'blue'\u001b[0m\u001b[0;34m,\u001b[0m \u001b[0malpha\u001b[0m\u001b[0;34m=\u001b[0m\u001b[0;36m0.1\u001b[0m\u001b[0;34m)\u001b[0m\u001b[0;34m\u001b[0m\u001b[0;34m\u001b[0m\u001b[0m\n",
            "\u001b[0;31mNameError\u001b[0m: name 'recommended_stocks' is not defined"
          ]
        }
      ]
    },
    {
      "cell_type": "code",
      "source": [
        "# Calculate Value at Risk (VaR) for the portfolio\n",
        "def calculate_var(recommended_stocks, confidence_level=0.95):\n",
        "    portfolio_values = []\n",
        "    for symbol, _ in recommended_stocks:\n",
        "        historical_prices = yf.download(symbol, period='5y')['Adj Close']\n",
        "        returns = historical_prices.pct_change().dropna()\n",
        "        portfolio_values.extend(returns)\n",
        "\n",
        "    portfolio_values = np.sort(portfolio_values)\n",
        "    index = int((1 - confidence_level) * len(portfolio_values))\n",
        "    var = portfolio_values[index]\n",
        "    return var"
      ],
      "metadata": {
        "id": "RPC6Vgve6LKM"
      },
      "execution_count": null,
      "outputs": []
    },
    {
      "cell_type": "code",
      "source": [
        "\n",
        "# Calculate and print Value at Risk\n",
        "var = calculate_var(recommended_stocks)\n",
        "print(f'\\nValue at Risk (VaR) at 95% confidence level: {var}')"
      ],
      "metadata": {
        "id": "gJllpmgJ6LP7"
      },
      "execution_count": null,
      "outputs": []
    },
    {
      "cell_type": "code",
      "source": [
        "# Advanced feature: Portfolio optimization using the Efficient Frontier\n",
        "from pypfopt.efficient_frontier import EfficientFrontier\n",
        "from pypfopt import risk_models, expected_returns\n",
        "\n",
        "def portfolio_optimization(recommended_stocks):\n",
        "    prices = yf.download([symbol for symbol, _ in recommended_stocks], period='5y')['Adj Close']\n",
        "    mu = expected_returns.mean_historical_return(prices)\n",
        "    S = risk_models.sample_cov(prices)\n",
        "\n",
        "    ef = EfficientFrontier(mu, S)\n",
        "    weights = ef.max_sharpe()\n",
        "    cleaned_weights = ef.clean_weights()\n",
        "    ef.portfolio_performance(verbose=True)\n",
        "\n",
        "    return cleaned_weights"
      ],
      "metadata": {
        "id": "5vbgfeuH58J4"
      },
      "execution_count": null,
      "outputs": []
    },
    {
      "cell_type": "code",
      "source": [
        "# Perform portfolio optimization and print results\n",
        "optimized_weights = portfolio_optimization(recommended_stocks)\n",
        "print('\\nOptimized Portfolio Weights:')\n",
        "for symbol, weight in optimized_weights.items():\n",
        "    print(f\"{symbol}: {weight:.4f}\")"
      ],
      "metadata": {
        "id": "m8WejWav58VB"
      },
      "execution_count": null,
      "outputs": []
    },
    {
      "cell_type": "code",
      "source": [
        "# Begining of additional features\n",
        "# 1. Economic Indicators Analysis\n",
        "def fetch_economic_indicators():\n",
        "    indicators = {\n",
        "        'GDP': 21.43e12,\n",
        "        'Unemployment Rate': 3.5,\n",
        "        'Inflation Rate': 2.3,\n",
        "        'Interest Rate': 0.25\n",
        "    }\n",
        "    return indicators"
      ],
      "metadata": {
        "id": "hL5GhSDW58Xa"
      },
      "execution_count": null,
      "outputs": []
    },
    {
      "cell_type": "code",
      "source": [
        "# Fetch and print economic indicators\n",
        "economic_indicators = fetch_economic_indicators()\n",
        "print('\\nEconomic Indicators:')\n",
        "for indicator, value in economic_indicators.items():\n",
        "    print(f\"{indicator}: {value}\")"
      ],
      "metadata": {
        "id": "uQxNnrgQ58ZR"
      },
      "execution_count": null,
      "outputs": []
    },
    {
      "cell_type": "code",
      "source": [
        "# 2. Industry Sector Analysis\n",
        "def analyze_sector_performance(tickers):\n",
        "    sector_performance = {}\n",
        "    for sector in tickers['GICS Sector'].unique():\n",
        "        sector_tickers = tickers[tickers['GICS Sector'] == sector]['Symbol']\n",
        "        sector_data = prepare_data(pd.DataFrame({'Symbol': sector_tickers}))\n",
        "        sector_performance[sector] = sector_data['Adj Close'].mean()\n",
        "    return sector_performance"
      ],
      "metadata": {
        "id": "Zbiz3ZGb5tg4"
      },
      "execution_count": null,
      "outputs": []
    },
    {
      "cell_type": "code",
      "source": [
        "# Analyze and print sector performance\n",
        "sector_performance = analyze_sector_performance(tickers)\n",
        "print('\\nSector Performance:')\n",
        "for sector, performance in sector_performance.items():\n",
        "    print(f\"{sector}: {performance}\")\n"
      ],
      "metadata": {
        "id": "NUhoKdHR5tr0"
      },
      "execution_count": null,
      "outputs": []
    },
    {
      "cell_type": "code",
      "source": [
        "# 3. Advanced Technical Indicators\n",
        "def calculate_technical_indicators(recommended_stocks):\n",
        "    technical_indicators = {}\n",
        "    for symbol, _ in recommended_stocks:\n",
        "        historical_prices = yf.download(symbol, period='5y')\n",
        "        historical_prices['SMA'] = historical_prices['Adj Close'].rolling(window=50).mean()\n",
        "        historical_prices['EMA'] = historical_prices['Adj Close'].ewm(span=50, adjust=False).mean()\n",
        "        technical_indicators[symbol] = historical_prices[['SMA', 'EMA']]\n",
        "    return technical_indicators\n"
      ],
      "metadata": {
        "id": "Ot76QwGt5tvK"
      },
      "execution_count": null,
      "outputs": []
    },
    {
      "cell_type": "code",
      "source": [
        "# Calculate and print technical indicators\n",
        "technical_indicators = calculate_technical_indicators(recommended_stocks)\n",
        "for symbol, indicators in technical_indicators.items():\n",
        "    print(f'\\nTechnical Indicators for {symbol}:')\n",
        "    print(indicators.tail())"
      ],
      "metadata": {
        "id": "jLwZs7MH5txU"
      },
      "execution_count": null,
      "outputs": []
    },
    {
      "cell_type": "code",
      "source": [
        "# 4. Sector Rotation Strategy\n",
        "def sector_rotation_strategy(sector_performance, money):\n",
        "    sorted_sectors = sorted(sector_performance.items(), key=lambda x: x[1], reverse=True)\n",
        "    top_sectors = sorted_sectors[:3]\n",
        "    allocation = money / len(top_sectors)\n",
        "    return {sector: allocation for sector, _ in top_sectors}"
      ],
      "metadata": {
        "id": "XxoXn9cl5tGa"
      },
      "execution_count": null,
      "outputs": []
    },
    {
      "cell_type": "code",
      "source": [
        "# Implement sector rotation strategy and print results\n",
        "sector_rotation = sector_rotation_strategy(sector_performance, money)\n",
        "print('\\nSector Rotation Strategy Allocation:')\n",
        "for sector, allocation in sector_rotation.items():\n",
        "    print(f\"{sector}: ${allocation}\")"
      ],
      "metadata": {
        "id": "7V_ekjsy5WMz"
      },
      "execution_count": null,
      "outputs": []
    },
    {
      "cell_type": "code",
      "source": [
        "# 5. Mean Reversion Strategy\n",
        "def mean_reversion_strategy(recommended_stocks):\n",
        "    for symbol, _ in recommended_stocks:\n",
        "        historical_prices = yf.download(symbol, period='5y')\n",
        "        prices = historical_prices['Adj Close']\n",
        "        mean_price = prices.mean()\n",
        "        std_dev = prices.std()\n",
        "        upper_band = mean_price + 2 * std_dev\n",
        "        lower_band = mean_price - 2 * std_dev\n",
        "        plt.figure(figsize=(14, 7))\n",
        "        plt.plot(prices, label=symbol)\n",
        "        plt.axhline(mean_price, color='red', linestyle='--', label='Mean')\n",
        "        plt.axhline(upper_band, color='green', linestyle='--', label='Upper Band')\n",
        "        plt.axhline(lower_band, color='green', linestyle='--', label='Lower Band')\n",
        "        plt.legend()\n",
        "        plt.title(f'Mean Reversion Strategy for {symbol}')\n",
        "        plt.show()\n"
      ],
      "metadata": {
        "id": "49lo9HJY5WXZ"
      },
      "execution_count": null,
      "outputs": []
    },
    {
      "cell_type": "code",
      "source": [
        "# Plot mean reversion strategy for recommended stocks\n",
        "mean_reversion_strategy(recommended_stocks)"
      ],
      "metadata": {
        "id": "nbqikuKL5WaB"
      },
      "execution_count": null,
      "outputs": []
    },
    {
      "cell_type": "code",
      "source": [
        "# 6. Sentiment-Based Trading Strategy\n",
        "def sentiment_based_trading_strategy(recommended_stocks):\n",
        "    sentiments = {}\n",
        "    for stock, _ in recommended_stocks:\n",
        "        news_articles = fetch_news_articles(stock)\n",
        "        sentiment_scores = sentiment_analysis(news_articles)\n",
        "        avg_sentiment = np.mean(list(sentiment_scores.values()))\n",
        "        sentiments[stock] = avg_sentiment\n",
        "    return sentiments"
      ],
      "metadata": {
        "id": "Dr5l596n5WcY"
      },
      "execution_count": null,
      "outputs": []
    },
    {
      "cell_type": "code",
      "source": [
        "\n",
        "# Implement sentiment-based trading strategy and print results\n",
        "sentiment_scores = sentiment_based_trading_strategy(recommended_stocks)\n",
        "print('\\nSentiment-Based Trading Strategy:')\n",
        "for stock, sentiment in sentiment_scores.items():\n",
        "    print(f\"{stock}: {sentiment}\")"
      ],
      "metadata": {
        "id": "ha8xEvQh5OwO"
      },
      "execution_count": null,
      "outputs": []
    },
    {
      "cell_type": "code",
      "source": [
        "# 7. Dividend Yield Analysis\n",
        "def dividend_yield_analysis(recommended_stocks):\n",
        "    dividend_yields = {}\n",
        "    for symbol, _ in recommended_stocks:\n",
        "        historical_prices = yf.download(symbol, period='5y')\n",
        "        dividends = yf.Ticker(symbol).dividends\n",
        "        avg_dividend_yield = dividends.sum() / historical_prices['Adj Close'].mean()\n",
        "        dividend_yields[symbol] = avg_dividend_yield\n",
        "    return dividend_yields"
      ],
      "metadata": {
        "id": "Mlhjnlnh5PUC"
      },
      "execution_count": null,
      "outputs": []
    },
    {
      "cell_type": "code",
      "source": [
        "# Calculate and print dividend yields\n",
        "dividend_yields = dividend_yield_analysis(recommended_stocks)\n",
        "print('\\nDividend Yields:')\n",
        "for symbol, yield_ in dividend_yields.items():\n",
        "    print(f\"{symbol}: {yield_}\")\n",
        "# Calculate and print dividend yields\n",
        "dividend_yields = dividend_yield_analysis(recommended_stocks)\n",
        "print('\\nDividend Yields:')\n",
        "for symbol, yield_ in dividend_yields.items():\n",
        "    print(f\"{symbol}: {yield_}\")\n"
      ],
      "metadata": {
        "id": "SUjfmh7k5PgX"
      },
      "execution_count": null,
      "outputs": []
    },
    {
      "cell_type": "code",
      "source": [
        "# 8. Earnings and Revenue Analysis\n",
        "def earnings_and_revenue_analysis(recommended_stocks):\n",
        "    earnings_data = {}\n",
        "    for symbol, _ in recommended_stocks:\n",
        "        analysts_info = get_analysts_info(symbol)\n",
        "        earnings_data[symbol] = analysts_info['Earnings Estimate']\n",
        "    return earnings_data"
      ],
      "metadata": {
        "id": "1ZfookOc5ND5"
      },
      "execution_count": null,
      "outputs": []
    },
    {
      "cell_type": "code",
      "source": [
        "# Fetch and print earnings and revenue data\n",
        "earnings_data = earnings_and_revenue_analysis(recommended_stocks)\n",
        "print('\\nEarnings and Revenue Analysis:')\n",
        "for symbol, data in earnings_data.items():\n",
        "    print(f\"{symbol}: {data}\")"
      ],
      "metadata": {
        "id": "rfkWVI0W5I_V"
      },
      "execution_count": null,
      "outputs": []
    },
    {
      "cell_type": "code",
      "source": [
        "# 9. Market Sentiment Index (MSI)\n",
        "def calculate_market_sentiment_index(recommended_stocks):\n",
        "    sentiment_index = 0\n",
        "    for stock, _ in recommended_stocks:\n",
        "        news_articles = fetch_news_articles(stock)\n",
        "        sentiment_scores = sentiment_analysis(news_articles)\n",
        "        avg_sentiment = np.mean(list(sentiment_scores.values()))\n",
        "        sentiment_index += avg_sentiment\n",
        "    sentiment_index /= len(recommended_stocks)\n",
        "    return sentiment_index\n"
      ],
      "metadata": {
        "id": "XSvQLxhN5F4M"
      },
      "execution_count": null,
      "outputs": []
    },
    {
      "cell_type": "code",
      "source": [
        "# Calculate and print Market Sentiment Index\n",
        "market_sentiment_index = calculate_market_sentiment_index(recommended_stocks)\n",
        "print(f'\\nMarket Sentiment Index: {market_sentiment_index}')\n"
      ],
      "metadata": {
        "id": "6FimO85N5DZc"
      },
      "execution_count": null,
      "outputs": []
    },
    {
      "cell_type": "code",
      "source": [
        "# 10. Relative Strength Index (RSI)\n",
        "def calculate_rsi(recommended_stocks):\n",
        "    rsi_values = {}\n",
        "    for symbol, _ in recommended_stocks:\n",
        "        historical_prices = yf.download(symbol, period='5y')\n",
        "        delta = historical_prices['Adj Close'].diff()\n",
        "        gain = (delta.where(delta > 0, 0)).mean()\n",
        "        loss = (-delta.where(delta < 0, 0)).mean()\n",
        "        rs = gain / loss\n",
        "        rsi = 100 - (100 / (1 + rs))\n",
        "        rsi_values[symbol] = rsi\n",
        "    return rsi_values"
      ],
      "metadata": {
        "id": "nGpxoLwC4_fo"
      },
      "execution_count": null,
      "outputs": []
    },
    {
      "cell_type": "code",
      "source": [
        "# Calculate and print RSI values\n",
        "rsi_values = calculate_rsi(recommended_stocks)\n",
        "print('\\nRelative Strength Index (RSI):')\n",
        "for symbol, rsi in rsi_values.items():\n",
        "    print(f\"{symbol}: {rsi}\")"
      ],
      "metadata": {
        "id": "rctseL3m47at"
      },
      "execution_count": null,
      "outputs": []
    },
    {
      "cell_type": "code",
      "source": [
        "# 11. Predictive Analytics for Economic Indicators\n",
        "def predictive_analytics_economic_indicators(economic_indicators):\n",
        "    predictions = {}\n",
        "    for indicator, value in economic_indicators.items():\n",
        "        model = RandomForestRegressor()\n",
        "        X = np.arange(10).reshape(-1, 1)  # Placeholder for time series data\n",
        "        y = np.random.rand(10)  # Placeholder for indicator values\n",
        "        model.fit(X, y)\n",
        "        future_values = model.predict(np.array([[11], [12], [13]]))\n",
        "        predictions[indicator] = future_values\n",
        "    return predictions"
      ],
      "metadata": {
        "id": "Vm0UlviM444A"
      },
      "execution_count": null,
      "outputs": []
    },
    {
      "cell_type": "code",
      "source": [
        "# Predict future economic indicators and print results\n",
        "predicted_economic_indicators = predictive_analytics_economic_indicators(economic_indicators)\n",
        "print('\\nPredictive Analytics for Economic Indicators:')\n",
        "for indicator, predictions in predicted_economic_indicators.items():\n",
        "    print(f\"{indicator}: {predictions}\")"
      ],
      "metadata": {
        "id": "HVfYwkhg41vm"
      },
      "execution_count": null,
      "outputs": []
    },
    {
      "cell_type": "code",
      "source": [
        "# 12. Advanced Machine Learning Models\n",
        "from sklearn.ensemble import GradientBoostingRegressor\n",
        "\n",
        "def advanced_machine_learning_models(X_train, y_train, X_test, y_test):\n",
        "    gbm = GradientBoostingRegressor()\n",
        "    gbm.fit(X_train, y_train)\n",
        "    y_pred = gbm.predict(X_test)\n",
        "    mse = mean_squared_error(y_test, y_pred)\n",
        "    return gbm, mse"
      ],
      "metadata": {
        "id": "75bChddU4ylh"
      },
      "execution_count": null,
      "outputs": []
    },
    {
      "cell_type": "code",
      "source": [
        "# Train and evaluate advanced machine learning model\n",
        "advanced_model, advanced_mse = advanced_machine_learning_models(X_train, y_train, X_test, y_test)\n",
        "print(f'\\nAdvanced Model Mean Squared Error: {advanced_mse}')"
      ],
      "metadata": {
        "id": "hBvbSEG04vUi"
      },
      "execution_count": null,
      "outputs": []
    },
    {
      "cell_type": "code",
      "source": [
        "# 13. Volatility Index (VIX) Analysis\n",
        "def analyze_vix():\n",
        "    vix = yf.download('^VIX', period='5y')['Adj Close']\n",
        "    vix_trend = vix.rolling(window=30).mean()\n",
        "    return vix_trend\n"
      ],
      "metadata": {
        "id": "rVEcHwvW4rCj"
      },
      "execution_count": null,
      "outputs": []
    },
    {
      "cell_type": "code",
      "source": [
        "# Analyze and plot VIX trend\n",
        "vix_trend = analyze_vix()\n",
        "plt.figure(figsize=(14, 7))\n",
        "plt.plot(vix_trend, label='VIX Trend')\n",
        "plt.title('Volatility Index (VIX) Analysis')\n",
        "plt.xlabel('Date')\n",
        "plt.ylabel('VIX Value')\n",
        "plt.legend()\n",
        "plt.show()"
      ],
      "metadata": {
        "id": "1GNnEgkv4oXw"
      },
      "execution_count": null,
      "outputs": []
    },
    {
      "cell_type": "code",
      "source": [
        "# 14. Cryptocurrency Analysis\n",
        "def cryptocurrency_analysis():\n",
        "    cryptos = ['BTC-USD', 'ETH-USD', 'LTC-USD']\n",
        "    crypto_data = {}\n",
        "    for crypto in cryptos:\n",
        "        historical_prices = yf.download(crypto, period='5y')\n",
        "        crypto_data[crypto] = historical_prices\n",
        "    return crypto_data"
      ],
      "metadata": {
        "id": "0EQenyCO4m9m"
      },
      "execution_count": null,
      "outputs": []
    },
    {
      "cell_type": "code",
      "source": [
        "# Fetch and print cryptocurrency data\n",
        "crypto_data = cryptocurrency_analysis()\n",
        "print('\\nCryptocurrency Data:')\n",
        "for crypto, data in crypto_data.items():\n",
        "    print(f\"{crypto}:\")\n",
        "    print(data.tail())\n"
      ],
      "metadata": {
        "id": "gv7Z6H8s4gqP"
      },
      "execution_count": null,
      "outputs": []
    },
    {
      "cell_type": "code",
      "source": [
        "# 15. Advanced Risk Management Techniques\n",
        "def advanced_risk_management(portfolio_weights, recommended_stocks):\n",
        "    prices = yf.download([symbol for symbol, _ in recommended_stocks], period='5y')['Adj Close']\n",
        "    returns = prices.pct_change().dropna()\n",
        "    cov_matrix = returns.cov()\n",
        "    portfolio_variance = np.dot(portfolio_weights.T, np.dot(cov_matrix, portfolio_weights))\n",
        "    portfolio_volatility = np.sqrt(portfolio_variance)\n",
        "    return portfolio_volatility"
      ],
      "metadata": {
        "id": "N6bAqhRi4cf7"
      },
      "execution_count": null,
      "outputs": []
    },
    {
      "cell_type": "code",
      "source": [
        "# Calculate and print portfolio volatility\n",
        "portfolio_volatility = advanced_risk_management(np.array(list(optimized_weights.values())), recommended_stocks)\n",
        "print(f'\\nPortfolio Volatility: {portfolio_volatility}')"
      ],
      "metadata": {
        "id": "mCF0eh5I4Vby"
      },
      "execution_count": null,
      "outputs": []
    },
    {
      "cell_type": "code",
      "source": [
        "# Fetch the list of S&P 500 companies\n",
        "tickers = pd.read_html('https://en.wikipedia.org/wiki/List_of_S%26P_500_companies')[0]"
      ],
      "metadata": {
        "id": "D2vHC2lb7fZ_"
      },
      "execution_count": 6,
      "outputs": []
    },
    {
      "cell_type": "code",
      "source": [
        "# Function to get live data for companies\n",
        "def get_live_data_for_companies(tickers):\n",
        "    live_data_for_companies = {}\n",
        "    for symbol in tqdm(tickers['Symbol']):\n",
        "        try:\n",
        "            live_data = yf.Ticker(symbol).info\n",
        "            live_data_for_companies[symbol] = live_data\n",
        "        except:\n",
        "            print(f\"Could not fetch data for {symbol}\")\n",
        "    return live_data_for_companies"
      ],
      "metadata": {
        "id": "5G8LnF7u7fcF"
      },
      "execution_count": 7,
      "outputs": []
    },
    {
      "cell_type": "code",
      "source": [
        "# Get live data for S&P 500 companies\n",
        "live_data_sp500 = get_live_data_for_companies(tickers)\n",
        "\n",
        "# User input for investment details\n",
        "money = float(input('Enter the amount of money: '))\n",
        "time = int(input('Enter the time in weeks: '))\n",
        "risk_percentage = float(input('Enter risk percentage (0-100): '))\n",
        "\n",
        "# Validate risk percentage input\n",
        "if not (0 <= risk_percentage <= 100):\n",
        "    raise ValueError('Invalid input for risk percentage. Please enter a value between 0 and 100.')\n",
        "\n",
        "returns = float(input('Enter returns (1-100): '))"
      ],
      "metadata": {
        "colab": {
          "base_uri": "https://localhost:8080/"
        },
        "id": "DmZP3u047Wz-",
        "outputId": "bacb7ee4-dcdb-4b18-a9ad-803bbb42cd8b"
      },
      "execution_count": 8,
      "outputs": [
        {
          "output_type": "stream",
          "name": "stderr",
          "text": [
            "100%|██████████| 503/503 [01:00<00:00,  8.27it/s]\n"
          ]
        },
        {
          "name": "stdout",
          "output_type": "stream",
          "text": [
            "Enter the amount of money: 100000\n",
            "Enter the time in weeks: 10\n",
            "Enter risk percentage (0-100): 50\n",
            "Enter returns (1-100): 50\n"
          ]
        }
      ]
    },
    {
      "cell_type": "code",
      "source": [
        "# Create a DataFrame with the user input\n",
        "user_data = pd.DataFrame({\n",
        "    'money': [money],\n",
        "    'time': [time],\n",
        "    'risk_percentage': [risk_percentage],\n",
        "    'returns': [returns]\n",
        "})\n",
        "\n",
        "print('\\nUser Input:')\n",
        "print(user_data)"
      ],
      "metadata": {
        "colab": {
          "base_uri": "https://localhost:8080/"
        },
        "id": "n50dQIm67W5B",
        "outputId": "d74dadbe-dba5-4d34-dd0d-62d07080bedf"
      },
      "execution_count": 9,
      "outputs": [
        {
          "output_type": "stream",
          "name": "stdout",
          "text": [
            "\n",
            "User Input:\n",
            "      money  time  risk_percentage  returns\n",
            "0  100000.0    10             50.0     50.0\n"
          ]
        }
      ]
    },
    {
      "cell_type": "code",
      "source": [
        "# Prepare historical data for model training\n",
        "def prepare_data(tickers):\n",
        "    historical_data = []\n",
        "    for symbol in tqdm(tickers['Symbol']):\n",
        "        try:\n",
        "            stock_data = yf.download(symbol, period='2y')\n",
        "            stock_data['Symbol'] = symbol\n",
        "            historical_data.append(stock_data)\n",
        "        except:\n",
        "            print(f\"Could not download data for {symbol}\")\n",
        "    return pd.concat(historical_data)\n",
        "\n",
        "historical_data = prepare_data(tickers)"
      ],
      "metadata": {
        "id": "_b0FRNKg7W9L"
      },
      "execution_count": null,
      "outputs": []
    },
    {
      "cell_type": "code",
      "source": [
        "\n",
        "# Feature engineering\n",
        "historical_data['year'] = historical_data.index.year\n",
        "historical_data['month'] = historical_data.index.month\n",
        "historical_data['day'] = historical_data.index.day\n",
        "historical_data = historical_data.dropna()\n",
        "\n"
      ],
      "metadata": {
        "id": "gYPLZcoQ7MOk"
      },
      "execution_count": 12,
      "outputs": []
    },
    {
      "cell_type": "code",
      "source": [
        "# Label encode the stock symbols\n",
        "le = LabelEncoder()\n",
        "historical_data['symbol_encoded'] = le.fit_transform(historical_data['Symbol'])\n",
        "\n",
        "# Define features and target variable\n",
        "features = historical_data[['symbol_encoded', 'year', 'month', 'day', 'Open', 'High', 'Low', 'Close', 'Volume']]\n",
        "target = historical_data['Adj Close']\n",
        "\n",
        "# Split data into train and test sets\n",
        "X_train, X_test, y_train, y_test = train_test_split(features, target, test_size=0.2, random_state=42)\n",
        "\n",
        "# Create a Random Forest Regressor\n",
        "rf_regressor = RandomForestRegressor()\n"
      ],
      "metadata": {
        "id": "WPzRybwO7MWQ"
      },
      "execution_count": 13,
      "outputs": []
    },
    {
      "cell_type": "code",
      "source": [
        "# Define hyperparameters for grid search\n",
        "param_grid = {\n",
        "    'n_estimators': [50, 100, 200],\n",
        "    'max_depth': [None, 10, 20],\n",
        "    'min_samples_split': [2, 5, 10],\n",
        "    'min_samples_leaf': [1, 2, 4]\n",
        "    }"
      ],
      "metadata": {
        "id": "kv5sneWy7MZF"
      },
      "execution_count": 14,
      "outputs": []
    },
    {
      "cell_type": "code",
      "source": [
        "# Perform grid search for hyperparameter tuning\n",
        "grid_search = GridSearchCV(rf_regressor, param_grid, cv=2, scoring='neg_mean_squared_error')\n",
        "grid_search.fit(X_train, y_train)\n"
      ],
      "metadata": {
        "id": "LNPvSuTS7MbP"
      },
      "execution_count": null,
      "outputs": []
    },
    {
      "cell_type": "code",
      "source": [
        "# Get the best model from grid search\n",
        "best_rf_model = grid_search.best_estimator_"
      ],
      "metadata": {
        "id": "TATnAcIR7CoF",
        "colab": {
          "base_uri": "https://localhost:8080/",
          "height": 162
        },
        "outputId": "080f6730-b93c-4edc-bb05-6cbc835cf5f4"
      },
      "execution_count": 18,
      "outputs": [
        {
          "output_type": "error",
          "ename": "AttributeError",
          "evalue": "'GridSearchCV' object has no attribute 'best_estimator_'",
          "traceback": [
            "\u001b[0;31m---------------------------------------------------------------------------\u001b[0m",
            "\u001b[0;31mAttributeError\u001b[0m                            Traceback (most recent call last)",
            "\u001b[0;32m<ipython-input-18-6ada353f692a>\u001b[0m in \u001b[0;36m<cell line: 2>\u001b[0;34m()\u001b[0m\n\u001b[1;32m      1\u001b[0m \u001b[0;31m# Get the best model from grid search\u001b[0m\u001b[0;34m\u001b[0m\u001b[0;34m\u001b[0m\u001b[0m\n\u001b[0;32m----> 2\u001b[0;31m \u001b[0mbest_rf_model\u001b[0m \u001b[0;34m=\u001b[0m \u001b[0mgrid_search\u001b[0m\u001b[0;34m.\u001b[0m\u001b[0mbest_estimator_\u001b[0m\u001b[0;34m\u001b[0m\u001b[0;34m\u001b[0m\u001b[0m\n\u001b[0m",
            "\u001b[0;31mAttributeError\u001b[0m: 'GridSearchCV' object has no attribute 'best_estimator_'"
          ]
        }
      ]
    },
    {
      "cell_type": "code",
      "source": [
        "# Make predictions on the test set\n",
        "y_pred = best_rf_model.predict(X_test)"
      ],
      "metadata": {
        "id": "QhighYDX7Cq7"
      },
      "execution_count": null,
      "outputs": []
    },
    {
      "cell_type": "code",
      "source": [
        "# Evaluate the model\n",
        "mse = mean_squared_error(y_test, y_pred)\n",
        "print(f'Mean Squared Error on Test Set: {mse}')\n"
      ],
      "metadata": {
        "id": "upo4jlh47Ctg"
      },
      "execution_count": null,
      "outputs": []
    },
    {
      "cell_type": "code",
      "source": [
        "# Function to predict stock investment based on user input\n",
        "def predict_stock_investment(model, user_input, le):\n",
        "    user_input['symbol_encoded'] = le.transform(['AAPL'])[0]  # Placeholder, change to desired logic\n",
        "    user_input = user_input[['money', 'time', 'risk_percentage', 'symbol_encoded']]\n",
        "    predicted_returns = model.predict(user_input)\n",
        "    return predicted_returns"
      ],
      "metadata": {
        "id": "G_Xg51Zf7CyQ"
      },
      "execution_count": null,
      "outputs": []
    },
    {
      "cell_type": "code",
      "source": [
        "# User input for prediction\n",
        "user_input = pd.DataFrame({\n",
        "    'money': [money],\n",
        "    'time': [time],\n",
        "    'risk_percentage': [risk_percentage]\n",
        "})\n"
      ],
      "metadata": {
        "id": "X_Fujh__7C0p"
      },
      "execution_count": null,
      "outputs": []
    },
    {
      "cell_type": "code",
      "source": [
        "# Predict returns using the machine learning model\n",
        "predicted_returns = predict_stock_investment(best_rf_model, user_input, le)\n",
        "print(f'Predicted Returns: {predicted_returns}')"
      ],
      "metadata": {
        "id": "Q1sRprd764b8"
      },
      "execution_count": null,
      "outputs": []
    },
    {
      "cell_type": "code",
      "source": [
        "# Function to recommend stocks based on predicted returns and risk percentage\n",
        "def recommend_stocks(live_data_sp500, predicted_returns, risk_percentage, money):\n",
        "    recommended_stocks = []\n",
        "    for symbol, data in live_data_sp500.items():\n",
        "        try:\n",
        "            if risk_percentage < 33 and data['beta'] < 1:\n",
        "                recommended_stocks.append((symbol, data))\n",
        "            elif 33 <= risk_percentage < 66 and 1 <= data['beta'] < 1.5:\n",
        "                recommended_stocks.append((symbol, data))\n",
        "            elif risk_percentage >= 66 and data['beta'] >= 1.5:\n",
        "                recommended_stocks.append((symbol, data))\n",
        "        except:\n",
        "            pass\n",
        "    return recommended_stocks\n"
      ],
      "metadata": {
        "id": "23yLeRV-64oD"
      },
      "execution_count": null,
      "outputs": []
    },
    {
      "cell_type": "code",
      "source": [
        "# Recommend stocks based on predicted returns and risk percentage\n",
        "recommended_stocks = recommend_stocks(live_data_sp500, predicted_returns, risk_percentage, money)\n"
      ],
      "metadata": {
        "id": "FncaB_th64rl"
      },
      "execution_count": null,
      "outputs": []
    },
    {
      "cell_type": "code",
      "source": [
        "# Print recommended stocks and reasons for selection\n",
        "print('\\nRecommended Stocks:')\n",
        "for symbol, data in recommended_stocks:\n",
        "    print(f\"\\nSymbol: {symbol}\")\n",
        "    print(f\"Company: {data['longName']}\")\n",
        "    print(f\"Beta: {data['beta']}\")\n",
        "    print(f\"Market Cap: {data['marketCap']}\")\n",
        "    print(f\"Industry: {data['industry']}\")\n",
        "    print(f\"Reason: {'Low risk' if risk_percentage < 33 else 'Medium risk' if risk_percentage < 66 else 'High risk'} stock with appropriate beta value.\")\n"
      ],
      "metadata": {
        "id": "jG3ejNps6wUr"
      },
      "execution_count": null,
      "outputs": []
    },
    {
      "cell_type": "code",
      "source": [
        "# Function to fetch news articles for recommended stocks\n",
        "def fetch_news_articles(symbol):\n",
        "    try:\n",
        "        news = stock_info.get_news(symbol)\n",
        "        return news[:5]  # Return the top 5 news articles\n",
        "    except:\n",
        "        return []"
      ],
      "metadata": {
        "id": "cUCdhAGi6wlm"
      },
      "execution_count": null,
      "outputs": []
    },
    {
      "cell_type": "code",
      "source": [
        "# Fetch news articles for recommended stocks\n",
        "for stock, _ in recommended_stocks:\n",
        "    news_articles = fetch_news_articles(stock)\n",
        "    print(f'\\nNews for {stock}:')\n",
        "    for article in news_articles:\n",
        "        print(f\"Title: {article['title']}\\nLink: {article['link']}\\n\")\n",
        "\n"
      ],
      "metadata": {
        "id": "LmQrZS2d6woN"
      },
      "execution_count": null,
      "outputs": []
    },
    {
      "cell_type": "code",
      "source": [
        "# Function to plot predicted returns for recommended stocks\n",
        "def plot_predicted_returns(recommended_stocks, model, user_input, le):\n",
        "    plt.figure(figsize=(14, 7))\n",
        "    for symbol, data in recommended_stocks:\n",
        "        user_input['symbol_encoded'] = le.transform([symbol])[0]\n",
        "        user_input = user_input[['money', 'time', 'risk_percentage', 'symbol_encoded']]\n",
        "        predicted_returns = model.predict(user_input)\n",
        "        plt.plot(user_input['time'], predicted_returns, label=symbol)\n",
        "\n",
        "    plt.title('Predicted Returns for Recommended Stocks')\n",
        "    plt.xlabel('Time (weeks)')\n",
        "    plt.ylabel('Predicted Returns')\n",
        "    plt.legend()\n",
        "    plt.show()\n",
        "\n",
        "# Plot predicted returns for recommended stocks\n",
        "plot_predicted_returns(recommended_stocks, best_rf_model, user_input, le)"
      ],
      "metadata": {
        "id": "gL-aiF_n6wql"
      },
      "execution_count": null,
      "outputs": []
    },
    {
      "cell_type": "code",
      "source": [
        "# Calculate the Sharpe ratio for each recommended stock\n",
        "def calculate_sharpe_ratio(recommended_stocks):\n",
        "    sharpe_ratios = {}\n",
        "    risk_free_rate = 0.01  # 1% risk-free rate for calculation\n",
        "    for symbol, data in recommended_stocks:\n",
        "        try:\n",
        "            historical_prices = yf.download(symbol, period='5y')['Adj Close']\n",
        "            returns = historical_prices.pct_change().dropna()\n",
        "            avg_return = returns.mean()\n",
        "            std_dev = returns.std()\n",
        "            sharpe_ratio = (avg_return - risk_free_rate) / std_dev\n",
        "            sharpe_ratios[symbol] = sharpe_ratio\n",
        "        except:\n",
        "            print(f\"Could not calculate Sharpe ratio for {symbol}\")\n",
        "    return sharpe_ratios"
      ],
      "metadata": {
        "id": "q-3dOQ3M6VMi"
      },
      "execution_count": null,
      "outputs": []
    },
    {
      "cell_type": "code",
      "source": [
        "# Calculate and print Sharpe ratios\n",
        "sharpe_ratios = calculate_sharpe_ratio(recommended_stocks)\n",
        "print('\\nSharpe Ratios:')\n",
        "for symbol, ratio in sharpe_ratios.items():\n",
        "    print(f\"{symbol}: {ratio}\")"
      ],
      "metadata": {
        "id": "VZL9btX06VPa"
      },
      "execution_count": null,
      "outputs": []
    },
    {
      "cell_type": "code",
      "source": [
        "\n",
        "# Sentiment analysis of news articles for recommended stocks\n",
        "def sentiment_analysis(news_articles):\n",
        "    sentiments = {}\n",
        "    for article in news_articles:\n",
        "        analysis = TextBlob(article['title'])\n",
        "        sentiments[article['title']] = analysis.sentiment.polarity\n",
        "    return sentiments"
      ],
      "metadata": {
        "id": "B9O3oZJ16VRs"
      },
      "execution_count": null,
      "outputs": []
    },
    {
      "cell_type": "code",
      "source": [
        "# Perform sentiment analysis and print results\n",
        "for stock, _ in recommended_stocks:\n",
        "    news_articles = fetch_news_articles(stock)\n",
        "    sentiments = sentiment_analysis(news_articles)\n",
        "    print(f'\\nSentiment Analysis for {stock}:')\n",
        "    for title, sentiment in sentiments.items():\n",
        "        print(f\"Title: {title}\\nSentiment Polarity: {sentiment}\\n\")"
      ],
      "metadata": {
        "id": "9PnNcjF16VT3"
      },
      "execution_count": null,
      "outputs": []
    },
    {
      "cell_type": "code",
      "source": [
        "# Plot cumulative returns for recommended stocks\n",
        "def plot_cumulative_returns(recommended_stocks):\n",
        "    plt.figure(figsize=(14, 7))\n",
        "    for symbol, data in recommended_stocks:\n",
        "        historical_prices = yf.download(symbol, period='5y')['Adj Close']\n",
        "        cumulative_returns = (historical_prices / historical_prices.iloc[0]) - 1\n",
        "        plt.plot(cumulative_returns, label=symbol)\n",
        "\n",
        "    plt.title('Cumulative Returns for Recommended Stocks')\n",
        "    plt.xlabel('Date')\n",
        "    plt.ylabel('Cumulative Returns')\n",
        "    plt.legend()\n",
        "    plt.show()"
      ],
      "metadata": {
        "id": "wm0VlVDz6VWA"
      },
      "execution_count": null,
      "outputs": []
    },
    {
      "cell_type": "code",
      "source": [
        "# Plot cumulative returns for recommended stocks\n",
        "plot_cumulative_returns(recommended_stocks)"
      ],
      "metadata": {
        "id": "ZXP4LnzF6K0N"
      },
      "execution_count": null,
      "outputs": []
    }
  ]
}